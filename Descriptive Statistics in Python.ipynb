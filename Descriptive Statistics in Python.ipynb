{
 "cells": [
  {
   "cell_type": "code",
   "execution_count": 1,
   "id": "a88de06a",
   "metadata": {},
   "outputs": [],
   "source": [
    "# To keep the page organized, do all imports here\n",
    "from sqlalchemy import create_engine\n",
    "import pandas as pd\n",
    "from scipy import stats"
   ]
  },
  {
   "cell_type": "code",
   "execution_count": 2,
   "id": "1c300a3c",
   "metadata": {},
   "outputs": [],
   "source": [
    "# Database credentials\n",
    "postgres_user = 'dabc_student'\n",
    "postgres_pw = '7*.8G9QH21'\n",
    "postgres_host = '142.93.121.174'\n",
    "postgres_port = '5432'\n",
    "postgres_db = 'kickstarterprojects'\n",
    "\n",
    "# Use the credentials to start a connection\n",
    "engine = create_engine('postgresql://{}:{}@{}:{}/{}'.format(\n",
    "    postgres_user, postgres_pw, postgres_host, postgres_port, postgres_db))"
   ]
  },
  {
   "cell_type": "code",
   "execution_count": 3,
   "id": "98982357",
   "metadata": {},
   "outputs": [],
   "source": [
    "projects_df = pd.read_sql_table('ksprojects', con=engine)\n",
    "\n",
    "# Remove the connection\n",
    "engine.dispose()"
   ]
  },
  {
   "cell_type": "code",
   "execution_count": 4,
   "id": "4d3daa29",
   "metadata": {},
   "outputs": [
    {
     "data": {
      "text/plain": [
       "(65418, 13)"
      ]
     },
     "execution_count": 4,
     "metadata": {},
     "output_type": "execute_result"
    }
   ],
   "source": [
    "projects_df.shape"
   ]
  },
  {
   "cell_type": "code",
   "execution_count": 5,
   "id": "6ba4d9cf",
   "metadata": {},
   "outputs": [
    {
     "name": "stdout",
     "output_type": "stream",
     "text": [
      "<class 'pandas.core.frame.DataFrame'>\n",
      "RangeIndex: 65418 entries, 0 to 65417\n",
      "Data columns (total 13 columns):\n",
      " #   Column         Non-Null Count  Dtype         \n",
      "---  ------         --------------  -----         \n",
      " 0   id             65418 non-null  int64         \n",
      " 1   name           65418 non-null  object        \n",
      " 2   category       65418 non-null  object        \n",
      " 3   main_category  65418 non-null  object        \n",
      " 4   deadline       65418 non-null  datetime64[ns]\n",
      " 5   goal           65418 non-null  float64       \n",
      " 6   launched       65418 non-null  datetime64[ns]\n",
      " 7   state          65418 non-null  object        \n",
      " 8   backers        65418 non-null  int64         \n",
      " 9   country        65418 non-null  object        \n",
      " 10  usd_pledged    64673 non-null  float64       \n",
      " 11  currency       65418 non-null  object        \n",
      " 12  pledged        65418 non-null  float64       \n",
      "dtypes: datetime64[ns](2), float64(3), int64(2), object(6)\n",
      "memory usage: 6.5+ MB\n"
     ]
    }
   ],
   "source": [
    "projects_df.info()"
   ]
  },
  {
   "cell_type": "code",
   "execution_count": 6,
   "id": "d5216ab7",
   "metadata": {},
   "outputs": [
    {
     "data": {
      "text/html": [
       "<div>\n",
       "<style scoped>\n",
       "    .dataframe tbody tr th:only-of-type {\n",
       "        vertical-align: middle;\n",
       "    }\n",
       "\n",
       "    .dataframe tbody tr th {\n",
       "        vertical-align: top;\n",
       "    }\n",
       "\n",
       "    .dataframe thead th {\n",
       "        text-align: right;\n",
       "    }\n",
       "</style>\n",
       "<table border=\"1\" class=\"dataframe\">\n",
       "  <thead>\n",
       "    <tr style=\"text-align: right;\">\n",
       "      <th></th>\n",
       "      <th>id</th>\n",
       "      <th>name</th>\n",
       "      <th>category</th>\n",
       "      <th>main_category</th>\n",
       "      <th>deadline</th>\n",
       "      <th>goal</th>\n",
       "      <th>launched</th>\n",
       "      <th>state</th>\n",
       "      <th>backers</th>\n",
       "      <th>country</th>\n",
       "      <th>usd_pledged</th>\n",
       "      <th>currency</th>\n",
       "      <th>pledged</th>\n",
       "    </tr>\n",
       "  </thead>\n",
       "  <tbody>\n",
       "    <tr>\n",
       "      <th>0</th>\n",
       "      <td>1147015301</td>\n",
       "      <td>\"All We Had\" Gets Into Cannes -- $10 or More G...</td>\n",
       "      <td>Documentary</td>\n",
       "      <td>Film &amp; Video</td>\n",
       "      <td>2009-05-20 21:50:00</td>\n",
       "      <td>300.0</td>\n",
       "      <td>2009-04-30 22:10:30</td>\n",
       "      <td>failed</td>\n",
       "      <td>4</td>\n",
       "      <td>US</td>\n",
       "      <td>40.00</td>\n",
       "      <td>USD</td>\n",
       "      <td>40.00</td>\n",
       "    </tr>\n",
       "    <tr>\n",
       "      <th>1</th>\n",
       "      <td>1100844465</td>\n",
       "      <td>daily digest</td>\n",
       "      <td>Documentary</td>\n",
       "      <td>Film &amp; Video</td>\n",
       "      <td>2009-06-01 02:20:00</td>\n",
       "      <td>700.0</td>\n",
       "      <td>2009-05-04 21:14:28</td>\n",
       "      <td>successful</td>\n",
       "      <td>14</td>\n",
       "      <td>US</td>\n",
       "      <td>700.00</td>\n",
       "      <td>USD</td>\n",
       "      <td>700.00</td>\n",
       "    </tr>\n",
       "    <tr>\n",
       "      <th>2</th>\n",
       "      <td>1316334968</td>\n",
       "      <td>Drive A Faster Car 2.0</td>\n",
       "      <td>Nonfiction</td>\n",
       "      <td>Publishing</td>\n",
       "      <td>2009-06-04 06:00:00</td>\n",
       "      <td>1000.0</td>\n",
       "      <td>2009-05-04 22:51:31</td>\n",
       "      <td>successful</td>\n",
       "      <td>32</td>\n",
       "      <td>US</td>\n",
       "      <td>1367.00</td>\n",
       "      <td>USD</td>\n",
       "      <td>1367.00</td>\n",
       "    </tr>\n",
       "    <tr>\n",
       "      <th>3</th>\n",
       "      <td>1304906577</td>\n",
       "      <td>Accidental to Edinburgh - PHASE 1: AIRFARE</td>\n",
       "      <td>Theater</td>\n",
       "      <td>Theater</td>\n",
       "      <td>2009-06-05 05:59:00</td>\n",
       "      <td>6000.0</td>\n",
       "      <td>2009-04-30 22:22:43</td>\n",
       "      <td>successful</td>\n",
       "      <td>24</td>\n",
       "      <td>US</td>\n",
       "      <td>6575.00</td>\n",
       "      <td>USD</td>\n",
       "      <td>6575.00</td>\n",
       "    </tr>\n",
       "    <tr>\n",
       "      <th>4</th>\n",
       "      <td>1099226462</td>\n",
       "      <td>Logical Guess Pictures' 2nd Horror Movie!</td>\n",
       "      <td>Film &amp; Video</td>\n",
       "      <td>Film &amp; Video</td>\n",
       "      <td>2009-06-06 00:45:00</td>\n",
       "      <td>500.0</td>\n",
       "      <td>2009-04-30 01:32:55</td>\n",
       "      <td>successful</td>\n",
       "      <td>22</td>\n",
       "      <td>US</td>\n",
       "      <td>501.66</td>\n",
       "      <td>USD</td>\n",
       "      <td>501.66</td>\n",
       "    </tr>\n",
       "  </tbody>\n",
       "</table>\n",
       "</div>"
      ],
      "text/plain": [
       "           id  ...  pledged\n",
       "0  1147015301  ...    40.00\n",
       "1  1100844465  ...   700.00\n",
       "2  1316334968  ...  1367.00\n",
       "3  1304906577  ...  6575.00\n",
       "4  1099226462  ...   501.66\n",
       "\n",
       "[5 rows x 13 columns]"
      ]
     },
     "execution_count": 6,
     "metadata": {},
     "output_type": "execute_result"
    }
   ],
   "source": [
    "projects_df.head()"
   ]
  },
  {
   "cell_type": "code",
   "execution_count": 7,
   "id": "fa3fc8dd",
   "metadata": {},
   "outputs": [
    {
     "data": {
      "text/plain": [
       "158"
      ]
     },
     "execution_count": 7,
     "metadata": {},
     "output_type": "execute_result"
    }
   ],
   "source": [
    "# Count the number of unique values in this column\n",
    "projects_df['category'].nunique()"
   ]
  },
  {
   "cell_type": "code",
   "execution_count": 8,
   "id": "82e6bb76",
   "metadata": {},
   "outputs": [
    {
     "data": {
      "text/plain": [
       "Product Design    3444\n",
       "Documentary       2969\n",
       "Music             2740\n",
       "Shorts            2407\n",
       "Tabletop Games    2208\n",
       "Food              2126\n",
       "Video Games       2011\n",
       "Film & Video      1828\n",
       "Fiction           1670\n",
       "Fashion           1584\n",
       "Name: category, dtype: int64"
      ]
     },
     "execution_count": 8,
     "metadata": {},
     "output_type": "execute_result"
    }
   ],
   "source": [
    "# Find the frequency of each value in the column\n",
    "category_counts = projects_df['category'].value_counts()\n",
    "\n",
    "# Only print the first 10, because 158 is too many to print\n",
    "category_counts.head(10)"
   ]
  },
  {
   "cell_type": "code",
   "execution_count": 9,
   "id": "9a31a3b3",
   "metadata": {},
   "outputs": [
    {
     "data": {
      "text/plain": [
       "15"
      ]
     },
     "execution_count": 9,
     "metadata": {},
     "output_type": "execute_result"
    }
   ],
   "source": [
    "projects_df['main_category'].nunique()"
   ]
  },
  {
   "cell_type": "code",
   "execution_count": 10,
   "id": "810890c6",
   "metadata": {},
   "outputs": [
    {
     "data": {
      "text/plain": [
       "Film & Video    11666\n",
       "Music            9395\n",
       "Publishing       6901\n",
       "Games            5739\n",
       "Technology       5328\n",
       "Art              4843\n",
       "Design           4798\n",
       "Food             4343\n",
       "Fashion          3700\n",
       "Theater          2015\n",
       "Photography      1933\n",
       "Comics           1791\n",
       "Crafts           1474\n",
       "Journalism        811\n",
       "Dance             681\n",
       "Name: main_category, dtype: int64"
      ]
     },
     "execution_count": 10,
     "metadata": {},
     "output_type": "execute_result"
    }
   ],
   "source": [
    "main_category_counts = projects_df['main_category'].value_counts()\n",
    "\n",
    "# There are only 15 main categories, so print them all.\n",
    "main_category_counts"
   ]
  },
  {
   "cell_type": "code",
   "execution_count": 11,
   "id": "46f08ec7",
   "metadata": {},
   "outputs": [
    {
     "data": {
      "text/plain": [
       "22"
      ]
     },
     "execution_count": 11,
     "metadata": {},
     "output_type": "execute_result"
    }
   ],
   "source": [
    "# How many countries?\n",
    "projects_df['country'].nunique()"
   ]
  },
  {
   "cell_type": "code",
   "execution_count": 12,
   "id": "916bb1f2",
   "metadata": {},
   "outputs": [
    {
     "data": {
      "text/plain": [
       "US      52071\n",
       "GB       5617\n",
       "CA       2404\n",
       "AU       1258\n",
       "N,\"0      744\n",
       "DE        538\n",
       "NL        457\n",
       "FR        397\n",
       "IT        374\n",
       "ES        294\n",
       "SE        267\n",
       "NZ        236\n",
       "DK        157\n",
       "NO        120\n",
       "IE         99\n",
       "AT         98\n",
       "BE         90\n",
       "CH         88\n",
       "MX         43\n",
       "SG         29\n",
       "HK         26\n",
       "LU         11\n",
       "Name: country, dtype: int64"
      ]
     },
     "execution_count": 12,
     "metadata": {},
     "output_type": "execute_result"
    }
   ],
   "source": [
    "# How are the projects distributed over the countries?\n",
    "country_counts = projects_df['country'].value_counts()\n",
    "country_counts"
   ]
  },
  {
   "cell_type": "code",
   "execution_count": 13,
   "id": "38fe166d",
   "metadata": {},
   "outputs": [
    {
     "data": {
      "text/plain": [
       "13"
      ]
     },
     "execution_count": 13,
     "metadata": {},
     "output_type": "execute_result"
    }
   ],
   "source": [
    "projects_df['currency'].nunique()"
   ]
  },
  {
   "cell_type": "code",
   "execution_count": 14,
   "id": "e72e6b82",
   "metadata": {},
   "outputs": [
    {
     "data": {
      "text/plain": [
       "USD    52597\n",
       "GBP     5722\n",
       "CAD     2445\n",
       "EUR     2399\n",
       "AUD     1271\n",
       "SEK      271\n",
       "NZD      241\n",
       "DKK      163\n",
       "NOK      123\n",
       "CHF       88\n",
       "MXN       43\n",
       "SGD       29\n",
       "HKD       26\n",
       "Name: currency, dtype: int64"
      ]
     },
     "execution_count": 14,
     "metadata": {},
     "output_type": "execute_result"
    }
   ],
   "source": [
    "currency_counts = projects_df['currency'].value_counts()\n",
    "currency_counts"
   ]
  },
  {
   "cell_type": "code",
   "execution_count": 15,
   "id": "ded95627",
   "metadata": {},
   "outputs": [
    {
     "data": {
      "text/plain": [
       "6"
      ]
     },
     "execution_count": 15,
     "metadata": {},
     "output_type": "execute_result"
    }
   ],
   "source": [
    "projects_df['state'].nunique()"
   ]
  },
  {
   "cell_type": "code",
   "execution_count": 16,
   "id": "dde20586",
   "metadata": {},
   "outputs": [
    {
     "data": {
      "text/plain": [
       "failed        33922\n",
       "successful    23125\n",
       "canceled       6427\n",
       "live            938\n",
       "undefined       695\n",
       "suspended       311\n",
       "Name: state, dtype: int64"
      ]
     },
     "execution_count": 16,
     "metadata": {},
     "output_type": "execute_result"
    }
   ],
   "source": [
    "state_counts = projects_df['state'].value_counts()\n",
    "state_counts"
   ]
  },
  {
   "cell_type": "code",
   "execution_count": 17,
   "id": "1ce23b3c",
   "metadata": {},
   "outputs": [
    {
     "data": {
      "text/html": [
       "<div>\n",
       "<style scoped>\n",
       "    .dataframe tbody tr th:only-of-type {\n",
       "        vertical-align: middle;\n",
       "    }\n",
       "\n",
       "    .dataframe tbody tr th {\n",
       "        vertical-align: top;\n",
       "    }\n",
       "\n",
       "    .dataframe thead th {\n",
       "        text-align: right;\n",
       "    }\n",
       "</style>\n",
       "<table border=\"1\" class=\"dataframe\">\n",
       "  <thead>\n",
       "    <tr style=\"text-align: right;\">\n",
       "      <th></th>\n",
       "      <th>id</th>\n",
       "      <th>name</th>\n",
       "      <th>category</th>\n",
       "      <th>main_category</th>\n",
       "      <th>deadline</th>\n",
       "      <th>goal</th>\n",
       "      <th>launched</th>\n",
       "      <th>state</th>\n",
       "      <th>backers</th>\n",
       "      <th>country</th>\n",
       "      <th>usd_pledged</th>\n",
       "      <th>currency</th>\n",
       "      <th>pledged</th>\n",
       "    </tr>\n",
       "  </thead>\n",
       "  <tbody>\n",
       "    <tr>\n",
       "      <th>9490</th>\n",
       "      <td>1189637889</td>\n",
       "      <td>\"Natural Born Hooker\"</td>\n",
       "      <td>Theater</td>\n",
       "      <td>Theater</td>\n",
       "      <td>2012-04-24 08:59:00</td>\n",
       "      <td>25000.0</td>\n",
       "      <td>2012-03-14 19:05:44</td>\n",
       "      <td>undefined</td>\n",
       "      <td>0</td>\n",
       "      <td>N,\"0</td>\n",
       "      <td>NaN</td>\n",
       "      <td>USD</td>\n",
       "      <td>2621.00</td>\n",
       "    </tr>\n",
       "    <tr>\n",
       "      <th>15111</th>\n",
       "      <td>1244477824</td>\n",
       "      <td>Statpedia - The Collaborative Search Engine fo...</td>\n",
       "      <td>Software</td>\n",
       "      <td>Technology</td>\n",
       "      <td>2012-12-14 10:48:14</td>\n",
       "      <td>500.0</td>\n",
       "      <td>2012-11-14 10:48:14</td>\n",
       "      <td>undefined</td>\n",
       "      <td>0</td>\n",
       "      <td>N,\"0</td>\n",
       "      <td>NaN</td>\n",
       "      <td>USD</td>\n",
       "      <td>500.00</td>\n",
       "    </tr>\n",
       "    <tr>\n",
       "      <th>17484</th>\n",
       "      <td>1084993156</td>\n",
       "      <td>Willy Tea, Chris Doud and Chums: The Children'...</td>\n",
       "      <td>Music</td>\n",
       "      <td>Music</td>\n",
       "      <td>2013-04-09 06:06:11</td>\n",
       "      <td>3750.0</td>\n",
       "      <td>2013-03-26 05:06:11</td>\n",
       "      <td>successful</td>\n",
       "      <td>0</td>\n",
       "      <td>N,\"0</td>\n",
       "      <td>NaN</td>\n",
       "      <td>USD</td>\n",
       "      <td>4593.00</td>\n",
       "    </tr>\n",
       "    <tr>\n",
       "      <th>17532</th>\n",
       "      <td>1379649454</td>\n",
       "      <td>Juiette Z. Payne presents debut EP \"Eternal Da...</td>\n",
       "      <td>Music</td>\n",
       "      <td>Music</td>\n",
       "      <td>2013-04-11 15:50:25</td>\n",
       "      <td>5000.0</td>\n",
       "      <td>2013-03-02 15:50:25</td>\n",
       "      <td>successful</td>\n",
       "      <td>0</td>\n",
       "      <td>N,\"0</td>\n",
       "      <td>NaN</td>\n",
       "      <td>USD</td>\n",
       "      <td>5250.00</td>\n",
       "    </tr>\n",
       "    <tr>\n",
       "      <th>27334</th>\n",
       "      <td>1349042579</td>\n",
       "      <td>O'Films Production Launch!</td>\n",
       "      <td>Film &amp; Video</td>\n",
       "      <td>Film &amp; Video</td>\n",
       "      <td>2014-04-30 02:58:25</td>\n",
       "      <td>6000.0</td>\n",
       "      <td>2014-04-08 02:58:25</td>\n",
       "      <td>undefined</td>\n",
       "      <td>0</td>\n",
       "      <td>N,\"0</td>\n",
       "      <td>NaN</td>\n",
       "      <td>USD</td>\n",
       "      <td>6168.00</td>\n",
       "    </tr>\n",
       "    <tr>\n",
       "      <th>27443</th>\n",
       "      <td>1205956740</td>\n",
       "      <td>Short Film - \"The Man Who Choked\"</td>\n",
       "      <td>Film &amp; Video</td>\n",
       "      <td>Film &amp; Video</td>\n",
       "      <td>2014-05-02 12:47:00</td>\n",
       "      <td>1000.0</td>\n",
       "      <td>2014-04-16 13:21:21</td>\n",
       "      <td>undefined</td>\n",
       "      <td>0</td>\n",
       "      <td>N,\"0</td>\n",
       "      <td>NaN</td>\n",
       "      <td>GBP</td>\n",
       "      <td>1042.00</td>\n",
       "    </tr>\n",
       "    <tr>\n",
       "      <th>27522</th>\n",
       "      <td>1125500286</td>\n",
       "      <td>All About Amy</td>\n",
       "      <td>Film &amp; Video</td>\n",
       "      <td>Film &amp; Video</td>\n",
       "      <td>2014-05-04 17:41:13</td>\n",
       "      <td>3000.0</td>\n",
       "      <td>2014-04-04 17:41:13</td>\n",
       "      <td>undefined</td>\n",
       "      <td>0</td>\n",
       "      <td>N,\"0</td>\n",
       "      <td>NaN</td>\n",
       "      <td>USD</td>\n",
       "      <td>3225.00</td>\n",
       "    </tr>\n",
       "    <tr>\n",
       "      <th>27574</th>\n",
       "      <td>1292835145</td>\n",
       "      <td>WonderQuest ~ A Feature Length Music Film</td>\n",
       "      <td>Film &amp; Video</td>\n",
       "      <td>Film &amp; Video</td>\n",
       "      <td>2014-05-06 05:12:41</td>\n",
       "      <td>1111.0</td>\n",
       "      <td>2014-04-05 05:12:41</td>\n",
       "      <td>undefined</td>\n",
       "      <td>0</td>\n",
       "      <td>N,\"0</td>\n",
       "      <td>NaN</td>\n",
       "      <td>USD</td>\n",
       "      <td>3032.88</td>\n",
       "    </tr>\n",
       "    <tr>\n",
       "      <th>27602</th>\n",
       "      <td>1092574678</td>\n",
       "      <td>Pixelate Film Festival 2014</td>\n",
       "      <td>Film &amp; Video</td>\n",
       "      <td>Film &amp; Video</td>\n",
       "      <td>2014-05-07 13:37:16</td>\n",
       "      <td>1500.0</td>\n",
       "      <td>2014-04-09 13:37:16</td>\n",
       "      <td>undefined</td>\n",
       "      <td>0</td>\n",
       "      <td>N,\"0</td>\n",
       "      <td>NaN</td>\n",
       "      <td>GBP</td>\n",
       "      <td>1552.00</td>\n",
       "    </tr>\n",
       "    <tr>\n",
       "      <th>27755</th>\n",
       "      <td>1061706792</td>\n",
       "      <td>Zombie Shuffle feature film</td>\n",
       "      <td>Film &amp; Video</td>\n",
       "      <td>Film &amp; Video</td>\n",
       "      <td>2014-05-12 05:59:00</td>\n",
       "      <td>5000.0</td>\n",
       "      <td>2014-04-09 16:12:49</td>\n",
       "      <td>undefined</td>\n",
       "      <td>0</td>\n",
       "      <td>N,\"0</td>\n",
       "      <td>NaN</td>\n",
       "      <td>USD</td>\n",
       "      <td>5305.00</td>\n",
       "    </tr>\n",
       "  </tbody>\n",
       "</table>\n",
       "</div>"
      ],
      "text/plain": [
       "               id  ...  pledged\n",
       "9490   1189637889  ...  2621.00\n",
       "15111  1244477824  ...   500.00\n",
       "17484  1084993156  ...  4593.00\n",
       "17532  1379649454  ...  5250.00\n",
       "27334  1349042579  ...  6168.00\n",
       "27443  1205956740  ...  1042.00\n",
       "27522  1125500286  ...  3225.00\n",
       "27574  1292835145  ...  3032.88\n",
       "27602  1092574678  ...  1552.00\n",
       "27755  1061706792  ...  5305.00\n",
       "\n",
       "[10 rows x 13 columns]"
      ]
     },
     "execution_count": 17,
     "metadata": {},
     "output_type": "execute_result"
    }
   ],
   "source": [
    "null_rows = projects_df[projects_df.isnull().any(axis=1)]\n",
    "null_rows.head(10)"
   ]
  },
  {
   "cell_type": "code",
   "execution_count": 18,
   "id": "6f9ebd6b",
   "metadata": {},
   "outputs": [
    {
     "name": "stdout",
     "output_type": "stream",
     "text": [
      "<class 'pandas.core.frame.DataFrame'>\n",
      "Int64Index: 745 entries, 9490 to 59365\n",
      "Data columns (total 13 columns):\n",
      " #   Column         Non-Null Count  Dtype         \n",
      "---  ------         --------------  -----         \n",
      " 0   id             745 non-null    int64         \n",
      " 1   name           745 non-null    object        \n",
      " 2   category       745 non-null    object        \n",
      " 3   main_category  745 non-null    object        \n",
      " 4   deadline       745 non-null    datetime64[ns]\n",
      " 5   goal           745 non-null    float64       \n",
      " 6   launched       745 non-null    datetime64[ns]\n",
      " 7   state          745 non-null    object        \n",
      " 8   backers        745 non-null    int64         \n",
      " 9   country        745 non-null    object        \n",
      " 10  usd_pledged    0 non-null      float64       \n",
      " 11  currency       745 non-null    object        \n",
      " 12  pledged        745 non-null    float64       \n",
      "dtypes: datetime64[ns](2), float64(3), int64(2), object(6)\n",
      "memory usage: 81.5+ KB\n"
     ]
    }
   ],
   "source": [
    "null_rows.info()"
   ]
  },
  {
   "cell_type": "code",
   "execution_count": 19,
   "id": "64f74d26",
   "metadata": {},
   "outputs": [
    {
     "data": {
      "text/html": [
       "<div>\n",
       "<style scoped>\n",
       "    .dataframe tbody tr th:only-of-type {\n",
       "        vertical-align: middle;\n",
       "    }\n",
       "\n",
       "    .dataframe tbody tr th {\n",
       "        vertical-align: top;\n",
       "    }\n",
       "\n",
       "    .dataframe thead th {\n",
       "        text-align: right;\n",
       "    }\n",
       "</style>\n",
       "<table border=\"1\" class=\"dataframe\">\n",
       "  <thead>\n",
       "    <tr style=\"text-align: right;\">\n",
       "      <th></th>\n",
       "      <th>id</th>\n",
       "      <th>name</th>\n",
       "      <th>category</th>\n",
       "      <th>main_category</th>\n",
       "      <th>deadline</th>\n",
       "      <th>goal</th>\n",
       "      <th>launched</th>\n",
       "      <th>state</th>\n",
       "      <th>backers</th>\n",
       "      <th>country</th>\n",
       "      <th>usd_pledged</th>\n",
       "      <th>currency</th>\n",
       "      <th>pledged</th>\n",
       "    </tr>\n",
       "  </thead>\n",
       "  <tbody>\n",
       "    <tr>\n",
       "      <th>9490</th>\n",
       "      <td>1189637889</td>\n",
       "      <td>\"Natural Born Hooker\"</td>\n",
       "      <td>Theater</td>\n",
       "      <td>Theater</td>\n",
       "      <td>2012-04-24 08:59:00</td>\n",
       "      <td>25000.0</td>\n",
       "      <td>2012-03-14 19:05:44</td>\n",
       "      <td>undefined</td>\n",
       "      <td>0</td>\n",
       "      <td>N,\"0</td>\n",
       "      <td>0.0</td>\n",
       "      <td>USD</td>\n",
       "      <td>2621.00</td>\n",
       "    </tr>\n",
       "    <tr>\n",
       "      <th>15111</th>\n",
       "      <td>1244477824</td>\n",
       "      <td>Statpedia - The Collaborative Search Engine fo...</td>\n",
       "      <td>Software</td>\n",
       "      <td>Technology</td>\n",
       "      <td>2012-12-14 10:48:14</td>\n",
       "      <td>500.0</td>\n",
       "      <td>2012-11-14 10:48:14</td>\n",
       "      <td>undefined</td>\n",
       "      <td>0</td>\n",
       "      <td>N,\"0</td>\n",
       "      <td>0.0</td>\n",
       "      <td>USD</td>\n",
       "      <td>500.00</td>\n",
       "    </tr>\n",
       "    <tr>\n",
       "      <th>17484</th>\n",
       "      <td>1084993156</td>\n",
       "      <td>Willy Tea, Chris Doud and Chums: The Children'...</td>\n",
       "      <td>Music</td>\n",
       "      <td>Music</td>\n",
       "      <td>2013-04-09 06:06:11</td>\n",
       "      <td>3750.0</td>\n",
       "      <td>2013-03-26 05:06:11</td>\n",
       "      <td>successful</td>\n",
       "      <td>0</td>\n",
       "      <td>N,\"0</td>\n",
       "      <td>0.0</td>\n",
       "      <td>USD</td>\n",
       "      <td>4593.00</td>\n",
       "    </tr>\n",
       "    <tr>\n",
       "      <th>17532</th>\n",
       "      <td>1379649454</td>\n",
       "      <td>Juiette Z. Payne presents debut EP \"Eternal Da...</td>\n",
       "      <td>Music</td>\n",
       "      <td>Music</td>\n",
       "      <td>2013-04-11 15:50:25</td>\n",
       "      <td>5000.0</td>\n",
       "      <td>2013-03-02 15:50:25</td>\n",
       "      <td>successful</td>\n",
       "      <td>0</td>\n",
       "      <td>N,\"0</td>\n",
       "      <td>0.0</td>\n",
       "      <td>USD</td>\n",
       "      <td>5250.00</td>\n",
       "    </tr>\n",
       "    <tr>\n",
       "      <th>27334</th>\n",
       "      <td>1349042579</td>\n",
       "      <td>O'Films Production Launch!</td>\n",
       "      <td>Film &amp; Video</td>\n",
       "      <td>Film &amp; Video</td>\n",
       "      <td>2014-04-30 02:58:25</td>\n",
       "      <td>6000.0</td>\n",
       "      <td>2014-04-08 02:58:25</td>\n",
       "      <td>undefined</td>\n",
       "      <td>0</td>\n",
       "      <td>N,\"0</td>\n",
       "      <td>0.0</td>\n",
       "      <td>USD</td>\n",
       "      <td>6168.00</td>\n",
       "    </tr>\n",
       "    <tr>\n",
       "      <th>27443</th>\n",
       "      <td>1205956740</td>\n",
       "      <td>Short Film - \"The Man Who Choked\"</td>\n",
       "      <td>Film &amp; Video</td>\n",
       "      <td>Film &amp; Video</td>\n",
       "      <td>2014-05-02 12:47:00</td>\n",
       "      <td>1000.0</td>\n",
       "      <td>2014-04-16 13:21:21</td>\n",
       "      <td>undefined</td>\n",
       "      <td>0</td>\n",
       "      <td>N,\"0</td>\n",
       "      <td>0.0</td>\n",
       "      <td>GBP</td>\n",
       "      <td>1042.00</td>\n",
       "    </tr>\n",
       "    <tr>\n",
       "      <th>27522</th>\n",
       "      <td>1125500286</td>\n",
       "      <td>All About Amy</td>\n",
       "      <td>Film &amp; Video</td>\n",
       "      <td>Film &amp; Video</td>\n",
       "      <td>2014-05-04 17:41:13</td>\n",
       "      <td>3000.0</td>\n",
       "      <td>2014-04-04 17:41:13</td>\n",
       "      <td>undefined</td>\n",
       "      <td>0</td>\n",
       "      <td>N,\"0</td>\n",
       "      <td>0.0</td>\n",
       "      <td>USD</td>\n",
       "      <td>3225.00</td>\n",
       "    </tr>\n",
       "    <tr>\n",
       "      <th>27574</th>\n",
       "      <td>1292835145</td>\n",
       "      <td>WonderQuest ~ A Feature Length Music Film</td>\n",
       "      <td>Film &amp; Video</td>\n",
       "      <td>Film &amp; Video</td>\n",
       "      <td>2014-05-06 05:12:41</td>\n",
       "      <td>1111.0</td>\n",
       "      <td>2014-04-05 05:12:41</td>\n",
       "      <td>undefined</td>\n",
       "      <td>0</td>\n",
       "      <td>N,\"0</td>\n",
       "      <td>0.0</td>\n",
       "      <td>USD</td>\n",
       "      <td>3032.88</td>\n",
       "    </tr>\n",
       "    <tr>\n",
       "      <th>27602</th>\n",
       "      <td>1092574678</td>\n",
       "      <td>Pixelate Film Festival 2014</td>\n",
       "      <td>Film &amp; Video</td>\n",
       "      <td>Film &amp; Video</td>\n",
       "      <td>2014-05-07 13:37:16</td>\n",
       "      <td>1500.0</td>\n",
       "      <td>2014-04-09 13:37:16</td>\n",
       "      <td>undefined</td>\n",
       "      <td>0</td>\n",
       "      <td>N,\"0</td>\n",
       "      <td>0.0</td>\n",
       "      <td>GBP</td>\n",
       "      <td>1552.00</td>\n",
       "    </tr>\n",
       "    <tr>\n",
       "      <th>27755</th>\n",
       "      <td>1061706792</td>\n",
       "      <td>Zombie Shuffle feature film</td>\n",
       "      <td>Film &amp; Video</td>\n",
       "      <td>Film &amp; Video</td>\n",
       "      <td>2014-05-12 05:59:00</td>\n",
       "      <td>5000.0</td>\n",
       "      <td>2014-04-09 16:12:49</td>\n",
       "      <td>undefined</td>\n",
       "      <td>0</td>\n",
       "      <td>N,\"0</td>\n",
       "      <td>0.0</td>\n",
       "      <td>USD</td>\n",
       "      <td>5305.00</td>\n",
       "    </tr>\n",
       "  </tbody>\n",
       "</table>\n",
       "</div>"
      ],
      "text/plain": [
       "               id  ...  pledged\n",
       "9490   1189637889  ...  2621.00\n",
       "15111  1244477824  ...   500.00\n",
       "17484  1084993156  ...  4593.00\n",
       "17532  1379649454  ...  5250.00\n",
       "27334  1349042579  ...  6168.00\n",
       "27443  1205956740  ...  1042.00\n",
       "27522  1125500286  ...  3225.00\n",
       "27574  1292835145  ...  3032.88\n",
       "27602  1092574678  ...  1552.00\n",
       "27755  1061706792  ...  5305.00\n",
       "\n",
       "[10 rows x 13 columns]"
      ]
     },
     "execution_count": 19,
     "metadata": {},
     "output_type": "execute_result"
    }
   ],
   "source": [
    "zero_filled = null_rows.fillna(0)\n",
    "zero_filled.head(10)"
   ]
  },
  {
   "cell_type": "code",
   "execution_count": 20,
   "id": "9e777b88",
   "metadata": {},
   "outputs": [
    {
     "name": "stdout",
     "output_type": "stream",
     "text": [
      "850434\n",
      "840749\n"
     ]
    }
   ],
   "source": [
    "# Print the original size of the DataFrame\n",
    "print(projects_df.size)\n",
    "\n",
    "# Drop `NaN` rows\n",
    "clean_projects = projects_df.dropna()\n",
    "\n",
    "# Print the size of the modified DataFrame\n",
    "print(clean_projects.size)"
   ]
  },
  {
   "cell_type": "code",
   "execution_count": 21,
   "id": "69fdc8d3",
   "metadata": {},
   "outputs": [],
   "source": [
    "def series_statistics(column):\n",
    "  print('statistics for column: {}'.format(column.name))\n",
    "  print('The max value in the column: {}'.format(column.max()))\n",
    "  print('The min value in the column: {}'.format(column.min()))\n",
    "  print('The mode value in the column: {}'.format(column.mode()))\n",
    "  print('The median value in the column: {}'.format(column.median()))\n",
    "  print('The mean of the column: {}'.format(column.mean()))\n",
    "  print('The std of the column: {}'.format(column.std()))"
   ]
  },
  {
   "cell_type": "code",
   "execution_count": 22,
   "id": "f0a2380a",
   "metadata": {},
   "outputs": [
    {
     "name": "stdout",
     "output_type": "stream",
     "text": [
      "statistics for column: goal\n",
      "The max value in the column: 100000000.0\n",
      "The min value in the column: 1.0\n",
      "The mode value in the column: 0    5000.0\n",
      "Name: goal, dtype: float64\n",
      "The median value in the column: 5000.0\n",
      "The mean of the column: 42094.83745674393\n",
      "The std of the column: 1033205.2738987174\n"
     ]
    }
   ],
   "source": [
    "series_statistics(clean_projects['goal'])"
   ]
  },
  {
   "cell_type": "code",
   "execution_count": 23,
   "id": "614eebdc",
   "metadata": {},
   "outputs": [
    {
     "name": "stdout",
     "output_type": "stream",
     "text": [
      "statistics for column: usd_pledged\n",
      "The max value in the column: 8596480.0\n",
      "The min value in the column: 0.0\n",
      "The mode value in the column: 0    0.0\n",
      "Name: usd_pledged, dtype: float64\n",
      "The median value in the column: 542.0\n",
      "The mean of the column: 7900.242114883215\n",
      "The std of the column: 72783.34386006395\n"
     ]
    }
   ],
   "source": [
    "series_statistics(clean_projects['usd_pledged'])"
   ]
  },
  {
   "cell_type": "code",
   "execution_count": 24,
   "id": "f8bf4104",
   "metadata": {},
   "outputs": [
    {
     "data": {
      "text/plain": [
       "count    6.467300e+04\n",
       "mean     4.209484e+04\n",
       "std      1.033205e+06\n",
       "min      1.000000e+00\n",
       "25%      2.000000e+03\n",
       "50%      5.000000e+03\n",
       "75%      1.500000e+04\n",
       "max      1.000000e+08\n",
       "Name: goal, dtype: float64"
      ]
     },
     "execution_count": 24,
     "metadata": {},
     "output_type": "execute_result"
    }
   ],
   "source": [
    "clean_projects['goal'].describe()"
   ]
  },
  {
   "cell_type": "code",
   "execution_count": 25,
   "id": "d26d0544",
   "metadata": {},
   "outputs": [
    {
     "data": {
      "text/plain": [
       "count    6.467300e+04\n",
       "mean     7.900242e+03\n",
       "std      7.278334e+04\n",
       "min      0.000000e+00\n",
       "25%      2.500000e+01\n",
       "50%      5.420000e+02\n",
       "75%      3.608380e+03\n",
       "max      8.596480e+06\n",
       "Name: usd_pledged, dtype: float64"
      ]
     },
     "execution_count": 25,
     "metadata": {},
     "output_type": "execute_result"
    }
   ],
   "source": [
    "clean_projects['usd_pledged'].describe()"
   ]
  },
  {
   "cell_type": "code",
   "execution_count": 26,
   "id": "24c1ffee",
   "metadata": {},
   "outputs": [
    {
     "data": {
      "text/html": [
       "<div>\n",
       "<style scoped>\n",
       "    .dataframe tbody tr th:only-of-type {\n",
       "        vertical-align: middle;\n",
       "    }\n",
       "\n",
       "    .dataframe tbody tr th {\n",
       "        vertical-align: top;\n",
       "    }\n",
       "\n",
       "    .dataframe thead th {\n",
       "        text-align: right;\n",
       "    }\n",
       "</style>\n",
       "<table border=\"1\" class=\"dataframe\">\n",
       "  <thead>\n",
       "    <tr style=\"text-align: right;\">\n",
       "      <th></th>\n",
       "      <th>goal</th>\n",
       "      <th>usd_pledged</th>\n",
       "      <th>backers</th>\n",
       "    </tr>\n",
       "  </thead>\n",
       "  <tbody>\n",
       "    <tr>\n",
       "      <th>count</th>\n",
       "      <td>6.467300e+04</td>\n",
       "      <td>6.467300e+04</td>\n",
       "      <td>64673.000000</td>\n",
       "    </tr>\n",
       "    <tr>\n",
       "      <th>mean</th>\n",
       "      <td>4.209484e+04</td>\n",
       "      <td>7.900242e+03</td>\n",
       "      <td>104.336091</td>\n",
       "    </tr>\n",
       "    <tr>\n",
       "      <th>std</th>\n",
       "      <td>1.033205e+06</td>\n",
       "      <td>7.278334e+04</td>\n",
       "      <td>994.725411</td>\n",
       "    </tr>\n",
       "    <tr>\n",
       "      <th>min</th>\n",
       "      <td>1.000000e+00</td>\n",
       "      <td>0.000000e+00</td>\n",
       "      <td>0.000000</td>\n",
       "    </tr>\n",
       "    <tr>\n",
       "      <th>25%</th>\n",
       "      <td>2.000000e+03</td>\n",
       "      <td>2.500000e+01</td>\n",
       "      <td>2.000000</td>\n",
       "    </tr>\n",
       "    <tr>\n",
       "      <th>50%</th>\n",
       "      <td>5.000000e+03</td>\n",
       "      <td>5.420000e+02</td>\n",
       "      <td>13.000000</td>\n",
       "    </tr>\n",
       "    <tr>\n",
       "      <th>75%</th>\n",
       "      <td>1.500000e+04</td>\n",
       "      <td>3.608380e+03</td>\n",
       "      <td>56.000000</td>\n",
       "    </tr>\n",
       "    <tr>\n",
       "      <th>max</th>\n",
       "      <td>1.000000e+08</td>\n",
       "      <td>8.596480e+06</td>\n",
       "      <td>154926.000000</td>\n",
       "    </tr>\n",
       "  </tbody>\n",
       "</table>\n",
       "</div>"
      ],
      "text/plain": [
       "               goal   usd_pledged        backers\n",
       "count  6.467300e+04  6.467300e+04   64673.000000\n",
       "mean   4.209484e+04  7.900242e+03     104.336091\n",
       "std    1.033205e+06  7.278334e+04     994.725411\n",
       "min    1.000000e+00  0.000000e+00       0.000000\n",
       "25%    2.000000e+03  2.500000e+01       2.000000\n",
       "50%    5.000000e+03  5.420000e+02      13.000000\n",
       "75%    1.500000e+04  3.608380e+03      56.000000\n",
       "max    1.000000e+08  8.596480e+06  154926.000000"
      ]
     },
     "execution_count": 26,
     "metadata": {},
     "output_type": "execute_result"
    }
   ],
   "source": [
    "clean_projects[['goal', 'usd_pledged', 'backers']].describe()"
   ]
  },
  {
   "cell_type": "code",
   "execution_count": 27,
   "id": "7e4fd8b7",
   "metadata": {},
   "outputs": [
    {
     "data": {
      "text/plain": [
       "0.006423740131433381"
      ]
     },
     "execution_count": 27,
     "metadata": {},
     "output_type": "execute_result"
    }
   ],
   "source": [
    "clean_projects['goal'].corr(clean_projects['usd_pledged'])"
   ]
  },
  {
   "cell_type": "code",
   "execution_count": 28,
   "id": "72e818cd",
   "metadata": {},
   "outputs": [
    {
     "data": {
      "text/html": [
       "<div>\n",
       "<style scoped>\n",
       "    .dataframe tbody tr th:only-of-type {\n",
       "        vertical-align: middle;\n",
       "    }\n",
       "\n",
       "    .dataframe tbody tr th {\n",
       "        vertical-align: top;\n",
       "    }\n",
       "\n",
       "    .dataframe thead th {\n",
       "        text-align: right;\n",
       "    }\n",
       "</style>\n",
       "<table border=\"1\" class=\"dataframe\">\n",
       "  <thead>\n",
       "    <tr style=\"text-align: right;\">\n",
       "      <th></th>\n",
       "      <th>goal</th>\n",
       "      <th>usd_pledged</th>\n",
       "      <th>backers</th>\n",
       "    </tr>\n",
       "  </thead>\n",
       "  <tbody>\n",
       "    <tr>\n",
       "      <th>goal</th>\n",
       "      <td>1.000000</td>\n",
       "      <td>0.006424</td>\n",
       "      <td>0.003033</td>\n",
       "    </tr>\n",
       "    <tr>\n",
       "      <th>usd_pledged</th>\n",
       "      <td>0.006424</td>\n",
       "      <td>1.000000</td>\n",
       "      <td>0.569047</td>\n",
       "    </tr>\n",
       "    <tr>\n",
       "      <th>backers</th>\n",
       "      <td>0.003033</td>\n",
       "      <td>0.569047</td>\n",
       "      <td>1.000000</td>\n",
       "    </tr>\n",
       "  </tbody>\n",
       "</table>\n",
       "</div>"
      ],
      "text/plain": [
       "                 goal  usd_pledged   backers\n",
       "goal         1.000000     0.006424  0.003033\n",
       "usd_pledged  0.006424     1.000000  0.569047\n",
       "backers      0.003033     0.569047  1.000000"
      ]
     },
     "execution_count": 28,
     "metadata": {},
     "output_type": "execute_result"
    }
   ],
   "source": [
    "clean_projects[['goal', 'usd_pledged', 'backers']].corr()"
   ]
  },
  {
   "cell_type": "code",
   "execution_count": 29,
   "id": "af71cea6",
   "metadata": {},
   "outputs": [
    {
     "data": {
      "text/plain": [
       "(0.5690472468189975, 0.0)"
      ]
     },
     "execution_count": 29,
     "metadata": {},
     "output_type": "execute_result"
    }
   ],
   "source": [
    "stats.pearsonr(clean_projects['backers'], clean_projects['usd_pledged'])"
   ]
  },
  {
   "cell_type": "code",
   "execution_count": 30,
   "id": "1924973a",
   "metadata": {},
   "outputs": [
    {
     "data": {
      "text/html": [
       "<div>\n",
       "<style scoped>\n",
       "    .dataframe tbody tr th:only-of-type {\n",
       "        vertical-align: middle;\n",
       "    }\n",
       "\n",
       "    .dataframe tbody tr th {\n",
       "        vertical-align: top;\n",
       "    }\n",
       "\n",
       "    .dataframe thead th {\n",
       "        text-align: right;\n",
       "    }\n",
       "</style>\n",
       "<table border=\"1\" class=\"dataframe\">\n",
       "  <thead>\n",
       "    <tr style=\"text-align: right;\">\n",
       "      <th></th>\n",
       "      <th>playerid</th>\n",
       "      <th>birthyear</th>\n",
       "      <th>birthcountry</th>\n",
       "      <th>deathyear</th>\n",
       "      <th>namefirst</th>\n",
       "      <th>namelast</th>\n",
       "      <th>weight</th>\n",
       "      <th>height</th>\n",
       "      <th>bats</th>\n",
       "      <th>throws</th>\n",
       "      <th>yearid</th>\n",
       "      <th>teamid</th>\n",
       "      <th>lgid</th>\n",
       "      <th>salary</th>\n",
       "    </tr>\n",
       "  </thead>\n",
       "  <tbody>\n",
       "    <tr>\n",
       "      <th>0</th>\n",
       "      <td>barkele01</td>\n",
       "      <td>1955</td>\n",
       "      <td>USA</td>\n",
       "      <td>NaN</td>\n",
       "      <td>Len</td>\n",
       "      <td>Barker</td>\n",
       "      <td>225</td>\n",
       "      <td>77</td>\n",
       "      <td>R</td>\n",
       "      <td>R</td>\n",
       "      <td>1985</td>\n",
       "      <td>ATL</td>\n",
       "      <td>NL</td>\n",
       "      <td>870000</td>\n",
       "    </tr>\n",
       "    <tr>\n",
       "      <th>1</th>\n",
       "      <td>bedrost01</td>\n",
       "      <td>1957</td>\n",
       "      <td>USA</td>\n",
       "      <td>NaN</td>\n",
       "      <td>Steve</td>\n",
       "      <td>Bedrosian</td>\n",
       "      <td>200</td>\n",
       "      <td>75</td>\n",
       "      <td>R</td>\n",
       "      <td>R</td>\n",
       "      <td>1985</td>\n",
       "      <td>ATL</td>\n",
       "      <td>NL</td>\n",
       "      <td>550000</td>\n",
       "    </tr>\n",
       "  </tbody>\n",
       "</table>\n",
       "</div>"
      ],
      "text/plain": [
       "    playerid  birthyear birthcountry  deathyear  ... yearid teamid  lgid  salary\n",
       "0  barkele01       1955          USA        NaN  ...   1985    ATL    NL  870000\n",
       "1  bedrost01       1957          USA        NaN  ...   1985    ATL    NL  550000\n",
       "\n",
       "[2 rows x 14 columns]"
      ]
     },
     "execution_count": 30,
     "metadata": {},
     "output_type": "execute_result"
    }
   ],
   "source": [
    "# Database credentials\n",
    "postgres_user = 'dabc_student'\n",
    "postgres_pw = '7*.8G9QH21'\n",
    "postgres_host = '142.93.121.174'\n",
    "postgres_port = '5432'\n",
    "postgres_db = 'baseball'\n",
    "\n",
    "# Use the credentials to start a connection\n",
    "engine = create_engine('postgresql://{}:{}@{}:{}/{}'.format(\n",
    "    postgres_user, postgres_pw, postgres_host, postgres_port, postgres_db))\n",
    "\n",
    "# SQL to select players and salaries\n",
    "sql = 'SELECT p.playerid, birthyear, birthcountry, deathyear, namefirst, namelast, weight, height, bats, throws, yearid, teamid, lgid, salary FROM people p join salaries s on p.playerid = s.playerid'\n",
    "\n",
    "\n",
    "# Use the query to create a DataFrame\n",
    "players_df = pd.read_sql_query(sql, con=engine)\n",
    "\n",
    "# Remove the connection\n",
    "engine.dispose()\n",
    "\n",
    "# Print two rows to see what you got\n",
    "players_df.head(2)"
   ]
  },
  {
   "cell_type": "code",
   "execution_count": 31,
   "id": "77445383",
   "metadata": {},
   "outputs": [
    {
     "name": "stdout",
     "output_type": "stream",
     "text": [
      "<class 'pandas.core.frame.DataFrame'>\n",
      "Int64Index: 867 entries, 3289 to 4155\n",
      "Data columns (total 14 columns):\n",
      " #   Column        Non-Null Count  Dtype  \n",
      "---  ------        --------------  -----  \n",
      " 0   playerid      867 non-null    object \n",
      " 1   birthyear     867 non-null    int64  \n",
      " 2   birthcountry  867 non-null    object \n",
      " 3   deathyear     36 non-null     float64\n",
      " 4   namefirst     867 non-null    object \n",
      " 5   namelast      867 non-null    object \n",
      " 6   weight        867 non-null    int64  \n",
      " 7   height        867 non-null    int64  \n",
      " 8   bats          867 non-null    object \n",
      " 9   throws        867 non-null    object \n",
      " 10  yearid        867 non-null    int64  \n",
      " 11  teamid        867 non-null    object \n",
      " 12  lgid          867 non-null    object \n",
      " 13  salary        867 non-null    int64  \n",
      "dtypes: float64(1), int64(5), object(8)\n",
      "memory usage: 101.6+ KB\n"
     ]
    }
   ],
   "source": [
    "players_1990 = players_df.iloc[(players_df['yearid'] == 1990).values]\n",
    "players_1990.info()"
   ]
  },
  {
   "cell_type": "code",
   "execution_count": 32,
   "id": "5039bf60",
   "metadata": {},
   "outputs": [
    {
     "name": "stdout",
     "output_type": "stream",
     "text": [
      "<class 'pandas.core.frame.DataFrame'>\n",
      "Int64Index: 836 entries, 12263 to 13098\n",
      "Data columns (total 14 columns):\n",
      " #   Column        Non-Null Count  Dtype  \n",
      "---  ------        --------------  -----  \n",
      " 0   playerid      836 non-null    object \n",
      " 1   birthyear     836 non-null    int64  \n",
      " 2   birthcountry  836 non-null    object \n",
      " 3   deathyear     10 non-null     float64\n",
      " 4   namefirst     836 non-null    object \n",
      " 5   namelast      836 non-null    object \n",
      " 6   weight        836 non-null    int64  \n",
      " 7   height        836 non-null    int64  \n",
      " 8   bats          836 non-null    object \n",
      " 9   throws        836 non-null    object \n",
      " 10  yearid        836 non-null    int64  \n",
      " 11  teamid        836 non-null    object \n",
      " 12  lgid          836 non-null    object \n",
      " 13  salary        836 non-null    int64  \n",
      "dtypes: float64(1), int64(5), object(8)\n",
      "memory usage: 98.0+ KB\n"
     ]
    }
   ],
   "source": [
    "players_2000 = players_df.iloc[(players_df['yearid'] == 2000).values]\n",
    "players_2000.info()"
   ]
  },
  {
   "cell_type": "code",
   "execution_count": 33,
   "id": "60154dab",
   "metadata": {},
   "outputs": [
    {
     "data": {
      "text/plain": [
       "Ttest_indResult(statistic=-16.90651573407297, pvalue=2.1593870550905857e-59)"
      ]
     },
     "execution_count": 33,
     "metadata": {},
     "output_type": "execute_result"
    }
   ],
   "source": [
    "stats.ttest_ind(players_1990['salary'], players_2000['salary'])"
   ]
  },
  {
   "cell_type": "code",
   "execution_count": 34,
   "id": "dc68da25",
   "metadata": {},
   "outputs": [],
   "source": [
    "sample_1_n = players_1990.shape[0]\n",
    "sample_2_n = players_2000.shape[0]\n",
    "sample_1_mean = players_1990['salary'].mean()\n",
    "sample_2_mean = players_2000['salary'].mean()\n",
    "sample_1_var = players_1990['salary'].var()\n",
    "sample_2_var = players_2000['salary'].var()"
   ]
  },
  {
   "cell_type": "code",
   "execution_count": 36,
   "id": "13c99866",
   "metadata": {},
   "outputs": [
    {
     "name": "stdout",
     "output_type": "stream",
     "text": [
      "The difference in means at the 95% confidence interval is between 1306451.096390415 and 1655570.6584535995.\n"
     ]
    }
   ],
   "source": [
    "import math\n",
    "std_err_difference = math.sqrt((sample_1_var/sample_1_n)+(sample_2_var/sample_2_n))\n",
    "\n",
    "mean_difference = sample_2_mean - sample_1_mean\n",
    "\n",
    "margin_of_error = 1.96 * std_err_difference\n",
    "ci_lower = mean_difference - margin_of_error\n",
    "ci_upper = mean_difference + margin_of_error\n",
    "\n",
    "print(\"The difference in means at the 95% confidence interval is between \"+str(ci_lower)+\" and \"+str(ci_upper)+\".\")"
   ]
  },
  {
   "cell_type": "code",
   "execution_count": 37,
   "id": "d4401d11",
   "metadata": {},
   "outputs": [
    {
     "data": {
      "text/plain": [
       "'The difference in means at the 95% confidence interval (two-tail) is between 1306451.096390415 and 1655570.6584535995.'"
      ]
     },
     "execution_count": 37,
     "metadata": {},
     "output_type": "execute_result"
    }
   ],
   "source": [
    "def get_95_ci(array_1, array_2):\n",
    "    sample_1_n = array_1.shape[0]\n",
    "    sample_2_n = array_2.shape[0]\n",
    "    sample_1_mean = array_1.mean()\n",
    "    sample_2_mean = array_2.mean()\n",
    "    sample_1_var = array_1.var()\n",
    "    sample_2_var = array_2.var()\n",
    "    mean_difference = sample_2_mean - sample_1_mean\n",
    "    std_err_difference = math.sqrt((sample_1_var/sample_1_n)+(sample_2_var/sample_2_n))\n",
    "    margin_of_error = 1.96 * std_err_difference\n",
    "    ci_lower = mean_difference - margin_of_error\n",
    "    ci_upper = mean_difference + margin_of_error\n",
    "    return(\"The difference in means at the 95% confidence interval (two-tail) is between \"+str(ci_lower)+\" and \"+str(ci_upper)+\".\")\n",
    "\n",
    "get_95_ci(players_1990['salary'],players_2000['salary'])"
   ]
  },
  {
   "cell_type": "code",
   "execution_count": null,
   "id": "8e10d51b",
   "metadata": {},
   "outputs": [],
   "source": []
  }
 ],
 "metadata": {
  "kernelspec": {
   "display_name": "Python 3 (ipykernel)",
   "language": "python",
   "name": "python3"
  },
  "language_info": {
   "codemirror_mode": {
    "name": "ipython",
    "version": 3
   },
   "file_extension": ".py",
   "mimetype": "text/x-python",
   "name": "python",
   "nbconvert_exporter": "python",
   "pygments_lexer": "ipython3",
   "version": "3.9.12"
  }
 },
 "nbformat": 4,
 "nbformat_minor": 5
}
